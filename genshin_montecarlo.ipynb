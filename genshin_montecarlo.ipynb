{
  "nbformat": 4,
  "nbformat_minor": 0,
  "metadata": {
    "colab": {
      "name": "genshin_montecarlo.ipynb",
      "provenance": [],
      "collapsed_sections": [],
      "mount_file_id": "1jW7jYVHtxewmOS5Gdaubsxs_u8mkpcN0",
      "authorship_tag": "ABX9TyOXN4riLTrApuF+T2dp+4pB"
    },
    "kernelspec": {
      "name": "python3",
      "display_name": "Python 3"
    }
  },
  "cells": [
    {
      "cell_type": "code",
      "metadata": {
        "id": "XapyxoJPvXl7"
      },
      "source": [
        "import numpy as np\n",
        "import os\n",
        "import pandas\n",
        "import json"
      ],
      "execution_count": 9,
      "outputs": []
    },
    {
      "cell_type": "code",
      "metadata": {
        "id": "8m8L7BZWwCjH",
        "outputId": "66d5c92f-04e3-455c-8324-26936a243f95",
        "colab": {
          "base_uri": "https://localhost:8080/",
          "height": 34
        }
      },
      "source": [
        "dir = '/content/drive/My Drive/Colab Notebooks/Genshin Impact Monte Carlo/'\n",
        "os.listdir(dir)"
      ],
      "execution_count": 11,
      "outputs": [
        {
          "output_type": "execute_result",
          "data": {
            "text/plain": [
              "['genshin_montecarlo.ipynb', 'banners.json']"
            ]
          },
          "metadata": {
            "tags": []
          },
          "execution_count": 11
        }
      ]
    },
    {
      "cell_type": "code",
      "metadata": {
        "id": "IEnWSU1g1TCZ"
      },
      "source": [
        "# Load banner data from JSON\n",
        "jsonpath = dir+'banners.json'\n",
        "\n",
        "with open(jsonpath, 'r') as j:\n",
        "  all_banners = json.loads(j.read())"
      ],
      "execution_count": 55,
      "outputs": []
    },
    {
      "cell_type": "code",
      "metadata": {
        "id": "CPU7_juo9naE",
        "outputId": "8629688a-4498-4373-ec4c-98c88a9575db",
        "colab": {
          "base_uri": "https://localhost:8080/",
          "height": 54
        }
      },
      "source": [
        "print(all_banners)"
      ],
      "execution_count": 43,
      "outputs": [
        {
          "output_type": "stream",
          "text": [
            "{'banner': [{'geninfo': {'name': 'Venti', 'prob5': 0.006, 'prob4': 0.051, 'prob3': 0.943, '5startotal': 6, '4startotal': 29}, '5stardrop_char': ['Venti', 'Keqing', 'Mona', 'Qiqi', 'Diluc', 'Jean'], '4stardrop_char': ['Barbara', 'Fischl', 'Xiangling', 'Sucrose', 'Chongyun', 'Noelle', 'Bennett', 'Ninguang', 'Xingqiu', 'Beidou', 'Razor'], 'rateups': {'5star': [1], '4star': [1, 2, 3]}, 'rateup_perc': {'5star': 0.5, '4star': 0.5}, 'pitypullnum': {'5star': 90, '4star': 10}}]}\n"
          ],
          "name": "stdout"
        }
      ]
    },
    {
      "cell_type": "code",
      "metadata": {
        "id": "Fx9IuOUXv0xZ"
      },
      "source": [
        "# Define the banner class based on JSON data\n",
        "class Banner():\n",
        "  def __init__(self, banner):\n",
        "\n",
        "    self.list_chars = {}\n",
        "\n",
        "    self.name = banner['geninfo']['name']\n",
        "    self.prob5 = banner['geninfo']['prob5']\n",
        "    self.prob4 = banner['geninfo']['prob4']\n",
        "    self.prob3 = banner['geninfo']['prob3']\n",
        "    self.total5s = banner['geninfo']['5startotal']\n",
        "    self.total4s = banner['geninfo']['4startotal']\n",
        "\n",
        "    self.list_chars['5 star'] = banner['5stardrop_char']\n",
        "    self.list_chars['4 star'] = banner['4stardrop_char']\n",
        "\n",
        "    self.rateups = banner['rateups']\n",
        "    self.rateups_perc = banner['rateup_perc']\n",
        "\n",
        "    self.pitynum = banner[\"pitypullnum\"]\n",
        "\n",
        "    self.startup_text()\n",
        "\n",
        "  def startup_text(self):\n",
        "    print(\"Loaded Banner: \" + self.name)\n",
        "\n",
        "    for stars in self.rateups:\n",
        "      print(\"Characters on \" + stars + \" rateup: \" + str([self.list_chars[stars][x] for x in self.rateups[stars]]) + \" at \" + str(self.rateups_perc[stars]*100) + \"%\")"
      ],
      "execution_count": 56,
      "outputs": []
    },
    {
      "cell_type": "code",
      "metadata": {
        "id": "Elh_QF5RCwF_"
      },
      "source": [
        "# Define simulator\n",
        "\n",
        "class MonteCarloSimulator():\n",
        "  def __init__(self, Banner):\n",
        "    self.Banner = Banner\n",
        "    self.name = self.Banner.name\n",
        "    print(self.name)"
      ],
      "execution_count": 59,
      "outputs": []
    },
    {
      "cell_type": "code",
      "metadata": {
        "id": "Wxe1XSE3vx6h"
      },
      "source": [
        "# Define a single roll"
      ],
      "execution_count": null,
      "outputs": []
    },
    {
      "cell_type": "code",
      "metadata": {
        "id": "ijzkH-2I9c2F",
        "outputId": "0b954d0f-5f03-45ce-848d-0955ad2c235e",
        "colab": {
          "base_uri": "https://localhost:8080/",
          "height": 85
        }
      },
      "source": [
        "# Testing\n",
        "b = Banner(all_banners['banner'][0])\n",
        "sim = MonteCarloSimulator(b)"
      ],
      "execution_count": 60,
      "outputs": [
        {
          "output_type": "stream",
          "text": [
            "Loaded Banner: Venti\n",
            "Characters on 5 star rateup: ['Venti'] at 50.0%\n",
            "Characters on 4 star rateup: ['Barbara', 'Fischl', 'Xiangling'] at 50.0%\n",
            "Venti\n"
          ],
          "name": "stdout"
        }
      ]
    }
  ]
}